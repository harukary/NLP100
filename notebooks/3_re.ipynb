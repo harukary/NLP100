{
 "cells": [
  {
   "cell_type": "code",
   "execution_count": 53,
   "metadata": {},
   "outputs": [],
   "source": [
    "import json\n",
    "import re\n",
    "from pprint import pprint\n",
    "from collections import OrderedDict"
   ]
  },
  {
   "cell_type": "markdown",
   "metadata": {},
   "source": [
    "# 20"
   ]
  },
  {
   "cell_type": "code",
   "execution_count": 54,
   "metadata": {},
   "outputs": [
    {
     "name": "stdout",
     "output_type": "stream",
     "text": [
      "イギリス\n",
      "{{redirect|UK}}\n",
      "{{redirect|英国|春秋時代の諸侯国|英 (春秋)}}\n",
      "{{Otheruses|ヨーロッパの国|長崎県・熊本県の郷土料理|いぎりす}}\n",
      "{{基礎情報 国\n",
      "|略名 ...\n"
     ]
    }
   ],
   "source": [
    "# with open('../data/jawiki-country.json','r', encoding='utf_8') as f:\n",
    "    # data = json.load(f)\n",
    "\n",
    "data = {}\n",
    "with open('../data/jawiki-country.json', encoding='utf-8') as f:\n",
    "    for line in f:\n",
    "        d = json.loads(line)\n",
    "        data[d['title']] = d #json.loads(d['text'].replace(\"'\", '\"'))\n",
    "\n",
    "print(data['イギリス']['title'])\n",
    "print(data['イギリス']['text'][:100],'...')"
   ]
  },
  {
   "cell_type": "markdown",
   "metadata": {},
   "source": [
    "# 21"
   ]
  },
  {
   "cell_type": "code",
   "execution_count": 55,
   "metadata": {},
   "outputs": [
    {
     "name": "stdout",
     "output_type": "stream",
     "text": [
      "イギリス\n"
     ]
    }
   ],
   "source": [
    "print(data['イギリス']['title'])"
   ]
  },
  {
   "cell_type": "markdown",
   "metadata": {},
   "source": [
    "# 22"
   ]
  },
  {
   "cell_type": "markdown",
   "metadata": {},
   "source": [
    "[[Category:イギリス|*]]\\n'"
   ]
  },
  {
   "cell_type": "markdown",
   "metadata": {},
   "source": [
    "[言語処理100本ノック-22:カテゴリ名の抽出](https://qiita.com/FukuharaYohei/items/3b0df4d9893b98537e95)"
   ]
  },
  {
   "cell_type": "code",
   "execution_count": 56,
   "metadata": {},
   "outputs": [
    {
     "name": "stdout",
     "output_type": "stream",
     "text": [
      "イギリス\n",
      "イギリス連邦加盟国\n",
      "英連邦王国\n",
      "G8加盟国\n",
      "欧州連合加盟国\n",
      "海洋国家\n",
      "現存する君主国\n",
      "島国\n",
      "1801年に成立した国家・領域\n"
     ]
    }
   ],
   "source": [
    "d = data['イギリス']\n",
    "\n",
    "categories = re.findall(r'''\n",
    "                  ^                  # 文字列の先頭(なくても結果は変わらないが入れておく)\n",
    "                  \\[\\[Category:      # 検索語句(\\はエスケープ処理)\n",
    "                  (                  # キャプチャ対象グループ化開始\n",
    "                  .*?                # 任意の文字列0文字以上を非貪欲マッチ\n",
    "                  )                  # キャプチャ対象グループ化終了\n",
    "                  (?:                # キャプチャ対象外グループ化開始\n",
    "                  \\|                 # 検索語句'|'\n",
    "                  .*                 # 任意の文字列0文字以上\n",
    "                  )?                 # キャプチャ対象外グループ化終了(0/1回出現対象)\n",
    "                  \\]\\]               # 検索語句(\\はエスケープ処理)\n",
    "                  $                  # 文字列の末尾(なくても結果は変わらないが入れておく)\n",
    "                  ''', d['text'], re.MULTILINE+re.VERBOSE)\n",
    "print('\\n'.join(categories))"
   ]
  },
  {
   "cell_type": "markdown",
   "metadata": {},
   "source": [
    "# 23"
   ]
  },
  {
   "cell_type": "code",
   "execution_count": 57,
   "metadata": {},
   "outputs": [
    {
     "name": "stdout",
     "output_type": "stream",
     "text": [
      "国名\n",
      "歴史\n",
      "地理\n",
      "\t主要都市\n",
      "\t気候\n",
      "政治\n",
      "\t元首\n",
      "\t法\n",
      "\t内政\n",
      "\t地方行政区分\n",
      "\t外交・軍事\n",
      "経済\n",
      "\t鉱業\n",
      "\t農業\n",
      "\t貿易\n",
      "\t不動産\n",
      "\tエネルギー政策\n",
      "\t通貨\n",
      "\t企業\n",
      "\t\t通信\n",
      "交通\n",
      "\t道路\n",
      "\t鉄道\n",
      "\t海運\n",
      "\t航空\n",
      "科学技術\n",
      "国民\n",
      "\t言語\n",
      "\t宗教\n",
      "\t婚姻\n",
      "\t移住\n",
      "\t教育\n",
      "\t医療\n",
      "文化\n",
      "\t食文化\n",
      "\t文学\n",
      "\t哲学\n",
      "\t音楽\n",
      "\t\tポピュラー音楽\n",
      "\t映画\n",
      "\tコメディ\n",
      "\t国花\n",
      "\t世界遺産\n",
      "\t祝祭日\n",
      "\tスポーツ\n",
      "\t\tサッカー\n",
      "\t\tクリケット\n",
      "\t\t競馬\n",
      "\t\tモータースポーツ\n",
      "\t\t野球\n",
      "\t\tカーリング\n",
      "\t\t自転車競技\n",
      "脚注\n",
      "関連項目\n",
      "外部リンク\n"
     ]
    }
   ],
   "source": [
    "sections = re.findall(r'''\n",
    "                      ^         # 文字列の先頭\n",
    "                      (={2,})   # キャプチャ対象、2回以上の'='\n",
    "                      \\s*       # 非キャプチャ、余分な0個以上の空白('哲学'や'婚姻'の前後に余分な空白があるので除去)\n",
    "                      (.+?)     # キャプチャ対象、任意の文字が1文字以上、非貪欲(以降の条件の巻き込み防止)\n",
    "                      \\s*       # 非キャプチャ、余分な0個以上の空白\n",
    "                      \\1        # 後方参照、1番目のキャプチャ対象(={2,})と同じ内容\n",
    "                      $         # 行末\n",
    "                      ''', d['text'], re.MULTILINE+re.VERBOSE)\n",
    "\n",
    "for section in sections:\n",
    "    level = len(section[0]) - 1    # '='の数-1\n",
    "    print('{indent}{sect}'.format(indent='\\t'*(level-1), sect=section[1]))"
   ]
  },
  {
   "cell_type": "markdown",
   "metadata": {},
   "source": [
    "# 24"
   ]
  },
  {
   "cell_type": "markdown",
   "metadata": {},
   "source": [
    "[[ファイル:Wikipedia-logo-v2-ja.png|thumb|説明文]]"
   ]
  },
  {
   "cell_type": "code",
   "execution_count": 58,
   "metadata": {},
   "outputs": [
    {
     "name": "stdout",
     "output_type": "stream",
     "text": [
      "Royal Coat of Arms of the United Kingdom.svg\n",
      "Descriptio Prime Tabulae Europae.jpg\n",
      "Lenepveu, Jeanne d'Arc au siège d'Orléans.jpg\n",
      "London.bankofengland.arp.jpg\n",
      "Battle of Waterloo 1815.PNG\n",
      "Uk topo en.jpg\n",
      "BenNevis2005.jpg\n",
      "Population density UK 2011 census.png\n",
      "2019 Greenwich Peninsula & Canary Wharf.jpg\n",
      "Birmingham Skyline from Edgbaston Cricket Ground crop.jpg\n",
      "Leeds CBD at night.jpg\n",
      "Glasgow and the Clyde from the air (geograph 4665720).jpg\n",
      "Palace of Westminster, London - Feb 2007.jpg\n",
      "Scotland Parliament Holyrood.jpg\n",
      "Donald Trump and Theresa May (33998675310) (cropped).jpg\n",
      "Soldiers Trooping the Colour, 16th June 2007.jpg\n",
      "City of London skyline from London City Hall - Oct 2008.jpg\n",
      "Oil platform in the North SeaPros.jpg\n",
      "Eurostar at St Pancras Jan 2008.jpg\n",
      "Heathrow Terminal 5C Iwelumo-1.jpg\n",
      "Airbus A380-841 G-XLEB British Airways (10424102995).jpg\n",
      "UKpop.svg\n",
      "Anglospeak.svg\n",
      "Royal Aberdeen Children's Hospital.jpg\n",
      "CHANDOS3.jpg\n",
      "The Fabs.JPG\n",
      "Wembley Stadium, illuminated.jpg\n"
     ]
    }
   ],
   "source": [
    "files = re.findall(r'''\n",
    "                  (?:File|ファイル)   # 非キャプチャ、'File'か'ファイル'\n",
    "                  :                  # 非キャプチャ\n",
    "                  (.+?)              # キャプチャ対象、任意の文字1文字以上、非貪欲\n",
    "                  \\|                 # 非キャプチャ、|をエスケープ\n",
    "                  ''', d['text'], re.MULTILINE+re.VERBOSE)\n",
    "\n",
    "print('\\n'.join(files))"
   ]
  },
  {
   "cell_type": "markdown",
   "metadata": {},
   "source": [
    "# 25"
   ]
  },
  {
   "cell_type": "code",
   "execution_count": 64,
   "metadata": {},
   "outputs": [
    {
     "name": "stdout",
     "output_type": "stream",
     "text": [
      "('|略名  =イギリス\\n'\n",
      " '|日本語国名 = グレートブリテン及び北アイルランド連合王国\\n'\n",
      " '|公式国名 = {{lang|en|United Kingdom of Great Britain and Northern '\n",
      " 'Ireland}}<ref>英語以外での正式国名:<br />\\n'\n",
      " '*{{lang|gd|An Rìoghachd Aonaichte na Breatainn Mhòr agus Eirinn mu '\n",
      " 'Thuath}}（[[スコットランド・ゲール語]]）\\n'\n",
      " '*{{lang|cy|Teyrnas Gyfunol Prydain Fawr a Gogledd Iwerddon}}（[[ウェールズ語]]）\\n'\n",
      " '*{{lang|ga|Ríocht Aontaithe na Breataine Móire agus Tuaisceart na '\n",
      " 'hÉireann}}（[[アイルランド語]]）\\n'\n",
      " '*{{lang|kw|An Rywvaneth Unys a Vreten Veur hag Iwerdhon '\n",
      " 'Glédh}}（[[コーンウォール語]]）\\n'\n",
      " '*{{lang|sco|Unitit Kinrick o Great Breetain an Northren '\n",
      " 'Ireland}}（[[スコットランド語]]）\\n'\n",
      " '**{{lang|sco|Claught Kängrick o Docht Brätain an Norlin '\n",
      " 'Airlann}}、{{lang|sco|Unitet Kängdom o Great Brittain an Norlin '\n",
      " 'Airlann}}（アルスター・スコットランド語）</ref>\\n'\n",
      " '|国旗画像 = Flag of the United Kingdom.svg\\n'\n",
      " '|国章画像 = [[ファイル:Royal Coat of Arms of the United Kingdom.svg|85px|イギリスの国章]]\\n'\n",
      " '|国章リンク =（[[イギリスの国章|国章]]）\\n'\n",
      " '|標語 = {{lang|fr|[[Dieu et mon droit]]}}<br />（[[フランス語]]:[[Dieu et mon '\n",
      " 'droit|神と我が権利]]）\\n'\n",
      " '|国歌 = [[女王陛下万歳|{{lang|en|God Save the Queen}}]]{{en icon}}<br '\n",
      " \"/>''神よ女王を護り賜え''<br />{{center|[[ファイル:United States Navy Band - God Save the \"\n",
      " 'Queen.ogg]]')\n"
     ]
    }
   ],
   "source": [
    "basic = re.search(r'''\n",
    "                    ^\\{\\{基礎情報.*?\\n  #検索語句(\\はエスケープ処理)、非キャプチャ、非貪欲\n",
    "                    (.*?)              #任意の文字列\n",
    "                    \\}\\}               #検索語句(\\はエスケープ処理)\n",
    "                    $                  #文字列の末尾\n",
    "                    ''', d['text'], re.MULTILINE+re.VERBOSE+re.DOTALL)\n",
    "pprint(basic.group(1))\n",
    "\n",
    "# rを先頭にするとraw string でエスケープシーケンス無視\n",
    "# 3重クォートで途中改行無視\n",
    "# re.VERBOSEオプションを使うことによって、空白とコメント無視\n",
    "templates = OrderedDict(re.findall(r'''\n",
    "                          ^\\|         # \\はエスケープ処理、非キャプチャ\n",
    "                          (.+?)       # キャプチャ対象(key)、非貪欲\n",
    "                          \\s*         # 空白文字0文字以上\n",
    "                          =           # 検索語句、非キャプチャ\n",
    "                          \\s*         # 空白文字0文字以上\n",
    "                          (.+?)       # キャプチャ対象(Value)、非貪欲\n",
    "                          (?:         # キャプチャ対象外のグループ開始\n",
    "                            (?=\\n\\|)  # 改行(\\n)+'|'の手前(肯定の先読み)\n",
    "                          | (?=\\n$)   # または、改行(\\n)+終端の手前(肯定の先読み)\n",
    "                          )           # キャプチャ対象外のグループ終了\n",
    "                         ''', basic[0], re.MULTILINE+re.VERBOSE+re.DOTALL))\n",
    "# pprint(templates)\n",
    "# for k,v in templates.items():\n",
    "#   print(k,':',v)"
   ]
  },
  {
   "cell_type": "markdown",
   "metadata": {},
   "source": [
    "# 26"
   ]
  },
  {
   "cell_type": "code",
   "execution_count": null,
   "metadata": {},
   "outputs": [],
   "source": []
  }
 ],
 "metadata": {
  "interpreter": {
   "hash": "5fb5365cf560380dfcc07d5149e74d1ed3f4aeab86165c2e83d2ccd592f4af0b"
  },
  "kernelspec": {
   "display_name": "Python 3.9.7 64-bit ('.venv39': venv)",
   "name": "python3"
  },
  "language_info": {
   "codemirror_mode": {
    "name": "ipython",
    "version": 3
   },
   "file_extension": ".py",
   "mimetype": "text/x-python",
   "name": "python",
   "nbconvert_exporter": "python",
   "pygments_lexer": "ipython3",
   "version": "3.9.7"
  },
  "orig_nbformat": 4
 },
 "nbformat": 4,
 "nbformat_minor": 2
}
